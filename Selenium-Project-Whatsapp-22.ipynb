{
 "cells": [
  {
   "cell_type": "code",
   "execution_count": 1,
   "id": "6610cbd9",
   "metadata": {},
   "outputs": [],
   "source": [
    "#importing libraries\n",
    "from selenium import webdriver\n",
    "from selenium.webdriver.common.keys import Keys\n",
    "from selenium.webdriver.common.by import By"
   ]
  },
  {
   "cell_type": "code",
   "execution_count": 2,
   "id": "38db0f25",
   "metadata": {},
   "outputs": [],
   "source": [
    "driver = webdriver.Edge()\n",
    "driver.get(\"https://web.whatsapp.com/\")\n",
    "\n",
    "def msg():\n",
    "    name = input('\\nEnter Group/User Name: ')\n",
    "    message = input('Enter your message to group/user: ')\n",
    "    count=int(input('Enter the message count: '))\n",
    "    \n",
    "    \n",
    "    user = driver.find_element(By.XPATH,'//span[@title=\"{}\"]'.format(name))\n",
    "    \n",
    "    user.click()\n",
    "    \n",
    "    text_box = driver.find_element(By.CLASS_NAME,'p3_M1')\n",
    "    \n",
    "    \n",
    "    \n",
    "    for i in range(count):\n",
    "        text_box.send_keys(message)\n",
    "        driver.find_element(By.CLASS_NAME,'tvf2evcx oq44ahr5 lb5m6g5c svlsagor p2rjqpw5 epia9gcq').click()\n",
    "        \n",
    "msg()\n",
    "\n",
    "\n",
    "def reps():\n",
    "    print('Do you want to send more message to anyone')\n",
    "    askUser = input('Press y for Yes and n for No : ')\n",
    "    if (askUser == 'Y' or askUser == 'y'):\n",
    "        msg()\n",
    "        reps()\n",
    "    elif (askUser == 'N' or askUser =='n'):\n",
    "        print('Thank you see you soon')\n",
    "    else:\n",
    "        print('Please Enter Valid option :\\n')\n",
    "        reps()\n",
    "        \n",
    "reps()"
   ]
  },
  {
   "cell_type": "markdown",
   "id": "d45c4277",
   "metadata": {},
   "source": [
    "- amlkak"
   ]
  },
  {
   "cell_type": "code",
   "execution_count": null,
   "id": "70e94500",
   "metadata": {},
   "outputs": [],
   "source": []
  }
 ],
 "metadata": {
  "kernelspec": {
   "display_name": "Python 3",
   "language": "python",
   "name": "python3"
  },
  "language_info": {
   "codemirror_mode": {
    "name": "ipython",
    "version": 3
   },
   "file_extension": ".py",
   "mimetype": "text/x-python",
   "name": "python",
   "nbconvert_exporter": "python",
   "pygments_lexer": "ipython3",
   "version": "3.8.8"
  }
 },
 "nbformat": 4,
 "nbformat_minor": 5
}
